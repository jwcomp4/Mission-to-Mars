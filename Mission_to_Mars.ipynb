{
 "cells": [
  {
   "cell_type": "code",
   "execution_count": 13,
   "id": "0a74d105",
   "metadata": {},
   "outputs": [],
   "source": [
    "# Importing Dependencies\n",
    "\n",
    "from splinter import Browser\n",
    "from bs4 import BeautifulSoup as soup\n",
    "from webdriver_manager.chrome import ChromeDriverManager\n",
    "\n",
    "import pandas as pd"
   ]
  },
  {
   "cell_type": "code",
   "execution_count": 2,
   "id": "6392be94",
   "metadata": {},
   "outputs": [
    {
     "name": "stderr",
     "output_type": "stream",
     "text": [
      "[WDM] - Downloading: 100%|█████████████████| 8.04M/8.04M [00:00<00:00, 30.4MB/s]\n"
     ]
    }
   ],
   "source": [
    "# Setting up Splinter\n",
    "\n",
    "executable_path = {'executable_path': ChromeDriverManager().install()}\n",
    "\n",
    "browser = Browser('chrome', **executable_path, headless=False)"
   ]
  },
  {
   "cell_type": "code",
   "execution_count": 3,
   "id": "2009ada9",
   "metadata": {},
   "outputs": [
    {
     "data": {
      "text/plain": [
       "True"
      ]
     },
     "execution_count": 3,
     "metadata": {},
     "output_type": "execute_result"
    }
   ],
   "source": [
    "# assigning the url and instructing browswer to visit that url\n",
    "\n",
    "url = 'https://redplanetscience.com'\n",
    "\n",
    "browser.visit(url)\n",
    "\n",
    "# optional delay for loading the page:\n",
    "\n",
    "browser.is_element_present_by_css('div.list_text', wait_time=1)"
   ]
  },
  {
   "cell_type": "markdown",
   "id": "0464ceee",
   "metadata": {},
   "source": [
    "# Discussing the Above cell\n",
    "\n",
    "- `browser.is_element_present_by_css('div.list_text', wait_time=1)` accomplishes the following 2 things:\n",
    "    1. searching for elements with specific combination of tag (`div`) and attribute (`list_text`)\n",
    "        - for example: `ul.item_list` would be found in HTML as `<ul class=\"item_list\">`\n",
    "    2. telling the browser to wait on esecond before searching components.\n",
    "        - helpful because dynamic pages can take a bit to load (especially image-heavy pages)"
   ]
  },
  {
   "cell_type": "code",
   "execution_count": 4,
   "id": "0cd05664",
   "metadata": {},
   "outputs": [],
   "source": [
    "# Now setting up the HTML parser:\n",
    "\n",
    "html = browser.html\n",
    "\n",
    "news_soup = soup(html, 'html.parser')\n",
    "\n",
    "side_elem = news_soup.select_one('div.list_text')"
   ]
  },
  {
   "cell_type": "markdown",
   "id": "dbf42e06",
   "metadata": {},
   "source": [
    "# Above Cell:\n",
    "\n",
    "- assigning the `side_elem` variable to look for the `<div />` tag and its descendent (the other tags within the `<div />` element)\n",
    "    - This is the parent element: it holds all of the other elements. Used to reference when you want to filter results even futher.\n",
    "    - the `.` is used to select classes such as `list_text`.\n",
    "    - `div.list_text` pinpoints the `<div />` tag with the class `list_text`.\n",
    "    - CSS works from left to right, returning the last item from the list instead of the first.\n",
    "        - Therefore, when using `select_one` the first matching element returned will be a `<li />` element within a class of `slide` and all nested elements within it."
   ]
  },
  {
   "cell_type": "code",
   "execution_count": 5,
   "id": "d2d41c15",
   "metadata": {},
   "outputs": [
    {
     "data": {
      "text/plain": [
       "<div class=\"content_title\">NASA Perseverance Mars Rover Scientists Train in the Nevada Desert</div>"
      ]
     },
     "execution_count": 5,
     "metadata": {},
     "output_type": "execute_result"
    }
   ],
   "source": [
    "# beginning scraping\n",
    "# Using .find onto the side_elem variable to look for the specific information within the info the variable holds.\n",
    "# Running this code returns the HTML containing the content and everything else nested within the <div />\n",
    "side_elem.find('div', class_='content_title')"
   ]
  },
  {
   "cell_type": "code",
   "execution_count": 6,
   "id": "4833f319",
   "metadata": {},
   "outputs": [
    {
     "data": {
      "text/plain": [
       "'NASA Perseverance Mars Rover Scientists Train in the Nevada Desert'"
      ]
     },
     "execution_count": 6,
     "metadata": {},
     "output_type": "execute_result"
    }
   ],
   "source": [
    "# Only want the title.\n",
    "# Use the parent element to find the first 'a' tag and save it as 'news_title'\n",
    "# the .get_text() function chained to .find() returns only the text and not the HTML tags or elements.\n",
    "\n",
    "news_title = side_elem.find('div', class_='content_title').get_text()\n",
    "\n",
    "news_title"
   ]
  },
  {
   "cell_type": "code",
   "execution_count": 7,
   "id": "7b7e61b7",
   "metadata": {},
   "outputs": [
    {
     "data": {
      "text/plain": [
       "\"Team members searched for signs of ancient microscopic life there, just as NASA's latest rover will on the Red Planet next year.\""
      ]
     },
     "execution_count": 7,
     "metadata": {},
     "output_type": "execute_result"
    }
   ],
   "source": [
    "# Now looking for the article summary. \n",
    "# will need to change the class_ to 'article_teaser_body', but there are multiple instances of that.\n",
    "# This is fine because you only want to pull the first one instead of a specific one.\n",
    "# note that .find() is used when you only want to find the first class and attribute.\n",
    "# .find_all() is used when you want to retrieve all of the tags and attributes.\n",
    "\n",
    "news_p = side_elem.find('div', class_='article_teaser_body').get_text()\n",
    "\n",
    "news_p"
   ]
  },
  {
   "cell_type": "markdown",
   "id": "8895b4b4",
   "metadata": {},
   "source": [
    "### Featured Images"
   ]
  },
  {
   "cell_type": "code",
   "execution_count": 8,
   "id": "b4adeb34",
   "metadata": {},
   "outputs": [],
   "source": [
    "# Visit the image Space Images Mars website\n",
    "\n",
    "url = 'https://spaceimages-mars.com/'\n",
    "\n",
    "browser.visit(url)"
   ]
  },
  {
   "cell_type": "code",
   "execution_count": 9,
   "id": "690658f1",
   "metadata": {},
   "outputs": [],
   "source": [
    "# Finding and Clicking the full image button\n",
    "# Chaining indexing at the end of the code telling the browser to click the second button.\n",
    "\n",
    "full_image_elem = browser.find_by_tag('button')[1]\n",
    "\n",
    "full_image_elem.click()"
   ]
  },
  {
   "cell_type": "code",
   "execution_count": 10,
   "id": "cff1c91e",
   "metadata": {},
   "outputs": [],
   "source": [
    "# Parsing the new page to continue scraping the full-size image URL.\n",
    "\n",
    "html = browser.html\n",
    "\n",
    "img_soup = soup(html, 'html.parser')"
   ]
  },
  {
   "cell_type": "code",
   "execution_count": 11,
   "id": "1bbaac06",
   "metadata": {},
   "outputs": [
    {
     "data": {
      "text/plain": [
       "'image/featured/mars1.jpg'"
      ]
     },
     "execution_count": 11,
     "metadata": {},
     "output_type": "execute_result"
    }
   ],
   "source": [
    "# Finding the relative image URL\n",
    "\n",
    "img_url_rel = img_soup.find('img', class_='fancybox-image').get('src')\n",
    "\n",
    "img_url_rel"
   ]
  },
  {
   "cell_type": "markdown",
   "id": "0443f969",
   "metadata": {},
   "source": [
    "# Above block of Code:\n",
    "\n",
    "- the above line of code in above cell does the following:\n",
    "    - `img` tag is nested within this HTML, so included it \n",
    "    - `.get('src')` pull the link to the image.\n",
    "    \n",
    "    - told BeautifulSoup to look insde the `<img />` tag for an image with a class of `fancybox-image` and get the lnik\n",
    "    - This code will only return a partial link. It needs to be combined with the base url.\n",
    "         - Use an f-string here for the following reasons:\n",
    "             1. it's cleaner\n",
    "             2. evaluated at run-time: it and the variable it holds doesn't exist until the code is executed and the values aren't constant.\n",
    "                 - Good for scraping because the data we're scraping is live and will be updated frequently."
   ]
  },
  {
   "cell_type": "code",
   "execution_count": 12,
   "id": "f5fb1002",
   "metadata": {},
   "outputs": [
    {
     "data": {
      "text/plain": [
       "'https://spaceimages-mars.com/image/featured/mars1.jpg'"
      ]
     },
     "execution_count": 12,
     "metadata": {},
     "output_type": "execute_result"
    }
   ],
   "source": [
    "# Use the base URL to create an absolute URL. \n",
    "\n",
    "\n",
    "img_url = f'https://spaceimages-mars.com/{img_url_rel}'\n",
    "\n",
    "img_url"
   ]
  },
  {
   "cell_type": "code",
   "execution_count": 15,
   "id": "e7ca0ad6",
   "metadata": {},
   "outputs": [
    {
     "data": {
      "text/html": [
       "<div>\n",
       "<style scoped>\n",
       "    .dataframe tbody tr th:only-of-type {\n",
       "        vertical-align: middle;\n",
       "    }\n",
       "\n",
       "    .dataframe tbody tr th {\n",
       "        vertical-align: top;\n",
       "    }\n",
       "\n",
       "    .dataframe thead th {\n",
       "        text-align: right;\n",
       "    }\n",
       "</style>\n",
       "<table border=\"1\" class=\"dataframe\">\n",
       "  <thead>\n",
       "    <tr style=\"text-align: right;\">\n",
       "      <th></th>\n",
       "      <th>Mars</th>\n",
       "      <th>Earth</th>\n",
       "    </tr>\n",
       "    <tr>\n",
       "      <th>description</th>\n",
       "      <th></th>\n",
       "      <th></th>\n",
       "    </tr>\n",
       "  </thead>\n",
       "  <tbody>\n",
       "    <tr>\n",
       "      <th>Mars - Earth Comparison</th>\n",
       "      <td>Mars</td>\n",
       "      <td>Earth</td>\n",
       "    </tr>\n",
       "    <tr>\n",
       "      <th>Diameter:</th>\n",
       "      <td>6,779 km</td>\n",
       "      <td>12,742 km</td>\n",
       "    </tr>\n",
       "    <tr>\n",
       "      <th>Mass:</th>\n",
       "      <td>6.39 × 10^23 kg</td>\n",
       "      <td>5.97 × 10^24 kg</td>\n",
       "    </tr>\n",
       "    <tr>\n",
       "      <th>Moons:</th>\n",
       "      <td>2</td>\n",
       "      <td>1</td>\n",
       "    </tr>\n",
       "    <tr>\n",
       "      <th>Distance from Sun:</th>\n",
       "      <td>227,943,824 km</td>\n",
       "      <td>149,598,262 km</td>\n",
       "    </tr>\n",
       "    <tr>\n",
       "      <th>Length of Year:</th>\n",
       "      <td>687 Earth days</td>\n",
       "      <td>365.24 days</td>\n",
       "    </tr>\n",
       "    <tr>\n",
       "      <th>Temperature:</th>\n",
       "      <td>-87 to -5 °C</td>\n",
       "      <td>-88 to 58°C</td>\n",
       "    </tr>\n",
       "  </tbody>\n",
       "</table>\n",
       "</div>"
      ],
      "text/plain": [
       "                                    Mars            Earth\n",
       "description                                              \n",
       "Mars - Earth Comparison             Mars            Earth\n",
       "Diameter:                       6,779 km        12,742 km\n",
       "Mass:                    6.39 × 10^23 kg  5.97 × 10^24 kg\n",
       "Moons:                                 2                1\n",
       "Distance from Sun:        227,943,824 km   149,598,262 km\n",
       "Length of Year:           687 Earth days      365.24 days\n",
       "Temperature:                -87 to -5 °C      -88 to 58°C"
      ]
     },
     "execution_count": 15,
     "metadata": {},
     "output_type": "execute_result"
    }
   ],
   "source": [
    "# Scraping the table from Mars facts\n",
    "\n",
    "df = pd.read_html('https://galaxyfacts-mars.com')[0]\n",
    "\n",
    "df.columns=['description', 'Mars', 'Earth']\n",
    "\n",
    "df.set_index('description', inplace=True)\n",
    "\n",
    "df"
   ]
  },
  {
   "cell_type": "markdown",
   "id": "da6cfecf",
   "metadata": {},
   "source": [
    "# Breaking Down Above Cell\n",
    "\n",
    "- `df = pd.read_html('https://galaxyfacts-mars.com')[0]` does the following:\n",
    "    1. creates a new DataFrame from the HTML table\n",
    "        - Pandas function `.read_html()` searches for and returns a list of tables found in the HTML.\n",
    "        - Specifying an index of 0, telling Pandas to pull only the first table it encounters, or the first item in the list. Having good familiarity with the HTML via DevTools will give you a sense of the order of the tables as they appear on the webpage.\n",
    "    2. After parsing through the HTML and creating a list, it creates a DataFrame.\n",
    "    \n",
    "- `df.columns=['description', 'Mars', 'Earth']`:\n",
    "    1. Assign columns to the new DataFrame for clarity. \n",
    "    \n",
    "- `df.set_index('description', inplace=True)`: \n",
    "    1. Using the `.set_index()` allows you to turn the Descriotion column into the DataFrame's index.\n",
    "    2. the `inplace=True` means that the updated index will remain in place without having to reassign the DataFrame to a new variable. \n",
    "    \n",
    "# Looking Ahead:\n",
    "\n",
    "- Will need to add the DataFrame to a web app:\n",
    "    - Because the data is live, you want the data on your web app to refresh as well. \n",
    "    - Pandas has a way to convert the DataFrame back to HTML: `.to_html()\n",
    "    \n",
    "- Converting this Pandas DataFrame to HTML will look somewhat confusing because it is a `<table />` element with nested elements.\n",
    "    - This is a good thing and means that everything has been ultimately been successful. \n",
    "    \n",
    "## **IMPORTANT!! MAKE SURE YOU QUIT THE BROWSING SESSION**\n",
    "\n",
    "- without doing so the automated browser will not know to quit.\n",
    "\n",
    "- Add `'browswer.quit()` to the last cell.\n",
    "\n",
    "\n",
    "## **IMPORTANT!! LIVE DATA SOURCES FORMAT CHANGES!!**\n",
    "\n",
    "- While live data is a great source of some types of data, it is important to recognize that the HTML format can change, requiring code refactoring to capture the data you want."
   ]
  },
  {
   "cell_type": "code",
   "execution_count": 16,
   "id": "00e4b334",
   "metadata": {},
   "outputs": [
    {
     "data": {
      "text/plain": [
       "'<table border=\"1\" class=\"dataframe\">\\n  <thead>\\n    <tr style=\"text-align: right;\">\\n      <th></th>\\n      <th>Mars</th>\\n      <th>Earth</th>\\n    </tr>\\n    <tr>\\n      <th>description</th>\\n      <th></th>\\n      <th></th>\\n    </tr>\\n  </thead>\\n  <tbody>\\n    <tr>\\n      <th>Mars - Earth Comparison</th>\\n      <td>Mars</td>\\n      <td>Earth</td>\\n    </tr>\\n    <tr>\\n      <th>Diameter:</th>\\n      <td>6,779 km</td>\\n      <td>12,742 km</td>\\n    </tr>\\n    <tr>\\n      <th>Mass:</th>\\n      <td>6.39 × 10^23 kg</td>\\n      <td>5.97 × 10^24 kg</td>\\n    </tr>\\n    <tr>\\n      <th>Moons:</th>\\n      <td>2</td>\\n      <td>1</td>\\n    </tr>\\n    <tr>\\n      <th>Distance from Sun:</th>\\n      <td>227,943,824 km</td>\\n      <td>149,598,262 km</td>\\n    </tr>\\n    <tr>\\n      <th>Length of Year:</th>\\n      <td>687 Earth days</td>\\n      <td>365.24 days</td>\\n    </tr>\\n    <tr>\\n      <th>Temperature:</th>\\n      <td>-87 to -5 °C</td>\\n      <td>-88 to 58°C</td>\\n    </tr>\\n  </tbody>\\n</table>'"
      ]
     },
     "execution_count": 16,
     "metadata": {},
     "output_type": "execute_result"
    }
   ],
   "source": [
    "df.to_html()"
   ]
  },
  {
   "cell_type": "code",
   "execution_count": 18,
   "id": "ad8c8958",
   "metadata": {},
   "outputs": [],
   "source": [
    "browser.quit()"
   ]
  },
  {
   "cell_type": "code",
   "execution_count": null,
   "id": "70246ccf",
   "metadata": {},
   "outputs": [],
   "source": []
  }
 ],
 "metadata": {
  "kernelspec": {
   "display_name": "PythonData",
   "language": "python",
   "name": "pythondata"
  },
  "language_info": {
   "codemirror_mode": {
    "name": "ipython",
    "version": 3
   },
   "file_extension": ".py",
   "mimetype": "text/x-python",
   "name": "python",
   "nbconvert_exporter": "python",
   "pygments_lexer": "ipython3",
   "version": "3.7.13"
  }
 },
 "nbformat": 4,
 "nbformat_minor": 5
}
